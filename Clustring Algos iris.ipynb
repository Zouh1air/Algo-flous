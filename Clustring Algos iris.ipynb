{
 "cells": [
  {
   "cell_type": "code",
   "execution_count": 1,
   "metadata": {
    "colab": {
     "base_uri": "https://localhost:8080/"
    },
    "id": "CPMCMnKZNDR-",
    "outputId": "01fd23e9-4f7f-4c31-819f-712f38d57aeb"
   },
   "outputs": [],
   "source": [
    "fichier = open(\"C:\\\\Users\\\\hp\\\\Desktop\\\\flous\\\\iris.csv\")\n",
    "import csv\n",
    "lecteur = csv.reader(fichier)\n",
    "for ligne in lecteur:\n",
    "    if(lecteur.line_num == 1):\n",
    "        n = int(ligne[0])\n",
    "        p = int(ligne[1])\n",
    "        c = int(ligne[2])\n",
    "        X = []\n",
    "        D = []\n",
    "    else:\n",
    "        X.append([float(ligne[i]) for i in range(p)])\n",
    "        D.append(int(ligne[p]))\n",
    "#print(X[:][0])\n",
    "import numpy as np\n",
    "X = np.array(X)"
   ]
  },
  {
   "cell_type": "markdown",
   "metadata": {
    "id": "qZxmttPmVYL6"
   },
   "source": [
    "# New Section"
   ]
  },
  {
   "cell_type": "code",
   "execution_count": 2,
   "metadata": {
    "colab": {
     "base_uri": "https://localhost:8080/",
     "height": 53
    },
    "id": "8RAYeiFZGY2U",
    "outputId": "beb65256-f865-44b5-f7ee-fccfa3501574"
   },
   "outputs": [],
   "source": [
    "import random as rd\n",
    "import math\n",
    "class FCM:\n",
    "    def __init__(self, m, c, X):\n",
    "        self.m = m\n",
    "        self.c = c\n",
    "        self.p = X.shape[1]\n",
    "        minX = [min(X[:,i]) for i in range(self.p)]\n",
    "        maxX = [max(X[:,i]) for i in range(self.p)]\n",
    "        self.V = np.array([[rd.uniform(minX[j], maxX[j]) for j in range(self.p)] for i in range(self.c)])\n",
    "        self.U = []\n",
    "        self.Etqt = []\n",
    "    def calculerU(self, X):\n",
    "        alpha = -1./(self.m-1.)\n",
    "        term1 = [ [ pow(sum(np.square(X[k]-self.V[i])), alpha) for k in range(X.shape[0]) ] for i in range(self.c)]\n",
    "        term2 = [ sum([pow(sum(np.square(X[k]-self.V[i])), alpha) for i in range(self.c)]) for k in range(X.shape[0])]\n",
    "        self.U = [ [ term1[i][k]/term2[k] for k in range(X.shape[0])] for i in range(self.c)]\n",
    "    def calculerV(self, X):\n",
    "        card = [ sum([pow(self.U[i][k], self.m) for k in range(X.shape[0])]) for i in range(self.c)]\n",
    "        #print(sum(card)) #à cause de la puissance m, la somme est différente de n\n",
    "        term=[[sum([pow(self.U[i][k],self.m)*X[k][j]for k in range(X.shape[0])])for j in range(self.p)]for i in range(self.c)]\n",
    "        self.V =[[term[i][j]/card[i] for j in range(self.p)]for i in range(self.c)]\n",
    "    def PC(self,X):\n",
    "        res = 0\n",
    "        for i in range(len(X)):\n",
    "            for j in range(self.c):\n",
    "                res += pow(self.U[j][i],2)\n",
    "            res /= len(X)\n",
    "        return res  \n",
    "    def entropie(self,X):\n",
    "        res = 0\n",
    "        for i in range(len(X)):\n",
    "            for j in range(self.c):\n",
    "                res += self.U[j][i] * math.log2(self.U[j][i])\n",
    "            res /= len(X)\n",
    "        return res\n",
    "    def entrainer(self, X, tmax, eps):\n",
    "        t = 1\n",
    "        while(t<tmax):\n",
    "            self.calculerU(X)\n",
    "            self.calculerV(X)\n",
    "            t = t + 1\n",
    "            self.etiqueterV(X)\n",
    "           #print(self.tauxErr(X, D)*100./X.shape[0],\"%\")\n",
    "    def etiqueterV(self, X):\n",
    "        card = [0 for i in range(self.c)]\n",
    "        Vmoy = [ [ 0. for j in range(self.p)] for i in range(self.c)]\n",
    "        for k in range(X.shape[0]):\n",
    "            for j in range(self.p):\n",
    "                Vmoy[D[k]-1][j] = Vmoy[D[k]-1][j] + X[k][j]\n",
    "        for k in range(X.shape[0]):\n",
    "            card[D[k]-1] = card[D[k]-1] + 1\n",
    "        for i in range(self.c):\n",
    "            for j in range(self.p):\n",
    "                Vmoy[i][j] = Vmoy[i][j] / card[D[k]-1]\n",
    "        Vmoy = np.array(Vmoy)\n",
    "        #print(\"Vmoy = \\n\"+str(np.array(Vmoy)))\n",
    "        dist = [[sum(np.square(self.V[l]-Vmoy[i])) for i in range(self.c)] for l in range(self.c)]\n",
    "        etqt = [np.argmin(dist[i]) for i in range(self.c)]\n",
    "        for i in range(self.c):\n",
    "            self.Etqt.append(etqt[i]+1)\n",
    "        #print(np.array(self.Etqt))\n",
    "    def classe(self, vect):\n",
    "        term1 = [ pow(sum(np.square(vect-self.V[i])), -1./(self.m-1)) for i in range(self.c)]\n",
    "        term2 = sum([ pow(sum(np.square(vect-self.V[i])), -1./(self.m-1)) for i in range(self.c)])\n",
    "        u = [term1[i]/term2 for i in range(self.c)]\n",
    "        return self.Etqt[np.argmax(u)]\n",
    "    def predict(self,X):\n",
    "        y_pred = [fcm.classe(x) for x in X]\n",
    "        return y_pred\n",
    "    def tauxErr(self, X, D):\n",
    "        er = 0.\n",
    "        for k in range(X.shape[0]):\n",
    "            if(self.classe(X[k]) != D[k]):\n",
    "                er = er + 1\n",
    "        return er"
   ]
  },
  {
   "cell_type": "markdown",
   "metadata": {
    "id": "DMZHJFUiYPSW"
   },
   "source": [
    "# New Section"
   ]
  },
  {
   "cell_type": "code",
   "execution_count": 3,
   "metadata": {
    "colab": {
     "base_uri": "https://localhost:8080/"
    },
    "id": "X1G_I-1mVqit",
    "outputId": "7ad819d7-86f1-4ab0-fc40-b6bc59ca7fd3"
   },
   "outputs": [
    {
     "name": "stdout",
     "output_type": "stream",
     "text": [
      "les prototypes avant l'entrainement :\n",
      " [[5.74469297 3.1712233  3.18644698 0.93766743]\n",
      " [6.22746969 2.91519375 4.98225702 1.75031685]\n",
      " [5.36557492 3.19053796 2.57924124 0.70146678]]\n",
      "\n",
      "les prototypes apres l'entrainement :\n",
      " [[5.88893236 2.76106936 4.36395164 1.39731504]\n",
      " [6.77501122 3.05238227 5.64678178 2.05354666]\n",
      " [5.00396596 3.41408886 1.48281553 0.25354632]]\n",
      "la matrice de confusion est :\n",
      " [[50  0  0]\n",
      " [ 0 47  3]\n",
      " [ 0 13 37]]\n"
     ]
    }
   ],
   "source": [
    "from sklearn.metrics import confusion_matrix\n",
    "\n",
    "fcm = FCM(2, c, X)\n",
    "fcm.calculerU(X)\n",
    "#for i in range(X.shape[0]):\n",
    "#print(np.array(fcm.U)[:,i])\n",
    "fcm.calculerV(X)\n",
    "print(\"les prototypes avant l'entrainement :\\n\",np.array(fcm.V))\n",
    "print()\n",
    "fcm.entrainer(X, 1000, 0.001)\n",
    "print(\"les prototypes apres l'entrainement :\\n\",np.array(fcm.V))\n",
    "# Créer la matrice de confusion en utilisant scikit-learn\n",
    "confusion = confusion_matrix(D, fcm.predict(X))\n",
    "print(\"la matrice de confusion est :\\n\",confusion)\n",
    "#print(fcm.tauxErr(X, D)*100./X.shape[0],\"%\")"
   ]
  },
  {
   "cell_type": "code",
   "execution_count": 4,
   "metadata": {
    "id": "2u8gd66Uxsmg"
   },
   "outputs": [],
   "source": [
    "import numpy as np\n",
    "import random as rd\n",
    "class LVQ:\n",
    "    def __init__(self, m, c, eta,t_max,X):\n",
    "        self.m = m\n",
    "        self.c = c\n",
    "        self.p = X.shape[1]\n",
    "        minX = [min(X[:,i]) for i in range(self.p)]\n",
    "        maxX = [max(X[:,i]) for i in range(self.p)]\n",
    "        self.V = np.array([ [ rd.uniform(minX[j], maxX[j]) for j in range(self.p)] for i in range(self.c)])\n",
    "        self.eta=eta\n",
    "        self.t_max=t_max\n",
    "    def gagnant(self,x):\n",
    "        g=np.argmin([sum(np.square(x-self.V[i]))for i in range(self.c)])\n",
    "        return g\n",
    "    def ajuster(self,x,g):\n",
    "        self.V[g]+=self.eta*(x-self.V[g])\n",
    "    def etiqueterV(self, X):\n",
    "        card = [0 for i in range(self.c)]\n",
    "        Vmoy = [ [ 0. for j in range(self.p)] for i in range(self.c)]\n",
    "        for k in range(X.shape[0]):\n",
    "            for j in range(self.p):\n",
    "                Vmoy[D[k]-1][j] = Vmoy[D[k]-1][j] + X[k][j]\n",
    "        for k in range(X.shape[0]):\n",
    "            card[D[k]-1] = card[D[k]-1] + 1\n",
    "        for i in range(self.c):\n",
    "            for j in range(self.p):\n",
    "                Vmoy[i][j] = Vmoy[i][j] / card[D[k]-1]\n",
    "        Vmoy = np.array(Vmoy)\n",
    "        #print(\"Vmoy = \\n\"+str(np.array(Vmoy)))\n",
    "        dist = [[sum(np.square(self.V[l]-Vmoy[i])) for i in range(self.c)] for l in range(self.c)]\n",
    "        etqt = [np.argmin(dist[i]) for i in range(self.c)]\n",
    "        for i in range(self.c):\n",
    "            self.Etqt.append(etqt[i]+1)\n",
    "        #print(np.array(self.Etqt))\n",
    "    def classe(self, vect):\n",
    "        term1 = [ pow(sum(np.square(vect-self.V[i])), -1./(self.m-1)) for i in range(self.c)]\n",
    "        term2 = sum([ pow(sum(np.square(vect-self.V[i])), -1./(self.m-1)) for i in range(self.c)])\n",
    "        u = [term1[i]/term2 for i in range(self.c)]\n",
    "        return self.Etqt[np.argmax(u)]\n",
    "    def entrainer(self,X):\n",
    "        for t in range(self.t_max):\n",
    "            for k in range(X.shape[0]):\n",
    "                self.ajuster(X[k],self.gagnant(X[k]))\n",
    "    def predict(self,X):\n",
    "        y_pred = [fcm.classe(x) for x in X]\n",
    "        return y_pred\n",
    "    def afficher(self):\n",
    "        print(self.V)\n",
    "    '''\n",
    "    def desision(self,X):\n",
    "        decision=[]\n",
    "        for i in range(X.shape[0]):\n",
    "            decision.append(np.argmin([sum(np.square(X[i]-self.V[j])) for j in range(self.c)])+1)\n",
    "        return decision\n",
    "    '''"
   ]
  },
  {
   "cell_type": "code",
   "execution_count": 5,
   "metadata": {
    "colab": {
     "base_uri": "https://localhost:8080/"
    },
    "id": "Ncyq3JThxxG4",
    "outputId": "11defbbc-bf2a-4856-daac-8c34d4376b16"
   },
   "outputs": [
    {
     "name": "stdout",
     "output_type": "stream",
     "text": [
      "les prototypes avant l entrainement :\n",
      "[[5.34913176 3.77722477 5.53062885 1.04117396]\n",
      " [5.81380954 2.71138143 5.60169504 1.69605946]\n",
      " [7.51382915 3.1722541  1.71207155 1.47097415]]\n",
      "les prototypes apres l entrainement :\n",
      "[[6.62946492 3.16403886 5.47517107 2.23081586]\n",
      " [6.00351005 2.76524099 4.98439872 1.74671368]\n",
      " [4.9552498  3.39914833 1.47075856 0.2477971 ]]\n",
      "la matrice de confusion est :\n",
      " [[50  0  0]\n",
      " [ 0 47  3]\n",
      " [ 0 13 37]]\n"
     ]
    }
   ],
   "source": [
    "from sklearn.metrics import confusion_matrix\n",
    "lvq=LVQ(2,3,0.2,1000,X)\n",
    "print('les prototypes avant l entrainement :')\n",
    "lvq.afficher()\n",
    "lvq.entrainer(X)\n",
    "print('les prototypes apres l entrainement :')\n",
    "lvq.afficher()\n",
    "# Créer la matrice de confusion en utilisant scikit-learn\n",
    "confusion = confusion_matrix(D,lvq.predict(X))\n",
    "print(\"la matrice de confusion est :\\n\",confusion)\n"
   ]
  },
  {
   "cell_type": "code",
   "execution_count": 6,
   "metadata": {
    "id": "rfirLQQEBsJh"
   },
   "outputs": [],
   "source": [
    "\n",
    "import numpy as np\n",
    "class FLVQ:\n",
    "    def __init__(self, c, eps, tmax, X, eta):\n",
    "        self.c = c\n",
    "        self.eta = eta\n",
    "        self.eps = eps\n",
    "        self.tmax = tmax\n",
    "        self.min = [min(X[:,j]) for j in range(X.shape[1])]\n",
    "        self.max = [max(X[:,j]) for j in range(X.shape[1])]\n",
    "        self.V = [[np.random.uniform(self.min[j], self.max[j]) for j in range(X.shape[1])] for i in range(c)]\n",
    "        self.W = np.random.rand(X.shape[0], c)\n",
    "    def gagnant(self,x):\n",
    "        g=np.argmin([sum(np.square(x-self.V[i]))for i in range(self.c)])\n",
    "        return g  \n",
    "    def Ajuster(self, x , g, t):\n",
    "        d = np.array([np.linalg.norm(x - self.V[i]) for i in range(self.c)])\n",
    "        s = np.sum(d / d[g])\n",
    "        self.W[t, :] = np.power((d / d[g]), 2) / s\n",
    "        for i in range(self.c):\n",
    "            self.V[i] += self.eta * self.W[t,i] * (x - self.V[i])\n",
    "    def etiqueterV(self, X):\n",
    "        card = [0 for i in range(self.c)]\n",
    "        Vmoy = [ [ 0. for j in range(self.p)] for i in range(self.c)]\n",
    "        for k in range(X.shape[0]):\n",
    "            for j in range(self.p):\n",
    "                Vmoy[D[k]-1][j] = Vmoy[D[k]-1][j] + X[k][j]\n",
    "        for k in range(X.shape[0]):\n",
    "            card[D[k]-1] = card[D[k]-1] + 1\n",
    "        for i in range(self.c):\n",
    "            for j in range(self.p):\n",
    "                Vmoy[i][j] = Vmoy[i][j] / card[D[k]-1]\n",
    "        Vmoy = np.array(Vmoy)\n",
    "        #print(\"Vmoy = \\n\"+str(np.array(Vmoy)))\n",
    "        dist = [[sum(np.square(self.V[l]-Vmoy[i])) for i in range(self.c)] for l in range(self.c)]\n",
    "        etqt = [np.argmin(dist[i]) for i in range(self.c)]\n",
    "        for i in range(self.c):\n",
    "            self.Etqt.append(etqt[i]+1)\n",
    "        #print(np.array(self.Etqt))\n",
    "    def classe(self, vect):\n",
    "        term1 = [ pow(sum(np.square(vect-self.V[i])), -1./(self.m-1)) for i in range(self.c)]\n",
    "        term2 = sum([ pow(sum(np.square(vect-self.V[i])), -1./(self.m-1)) for i in range(self.c)])\n",
    "        u = [term1[i]/term2 for i in range(self.c)]\n",
    "        return self.Etqt[np.argmax(u)]\n",
    "    \"\"\"\n",
    "    def entrainer(self,X):\n",
    "        for t in range(self.t_max):\n",
    "            for k in range(X.shape[0]):\n",
    "                self.ajuster(X[k],self.gagnant(X[k]))\n",
    "    \"\"\"\n",
    "    def predict(self,X):\n",
    "        y_pred = [fcm.classe(x) for x in X]\n",
    "        return y_pred\n",
    "    def entrainer(self, X):\n",
    "        n = X.shape[0]\n",
    "        for t in range(self.tmax):\n",
    "            for k in range(n):\n",
    "                x = X[k]\n",
    "                g = self.gagnant(x)\n",
    "                self.Ajuster(x, g, k)\n",
    "    def afficher(self):\n",
    "        print(self.V)\n",
    "    def desision(self,X):\n",
    "        decision=[]\n",
    "        for i in range(X.shape[0]):\n",
    "            decision.append(np.argmin([sum(np.square(X[i]-self.V[j])) for j in range(self.c)])+1)\n",
    "        return decision"
   ]
  },
  {
   "cell_type": "code",
   "execution_count": 7,
   "metadata": {},
   "outputs": [
    {
     "name": "stdout",
     "output_type": "stream",
     "text": [
      "les prototypes avant l entrainement :\n",
      "[[4.679391650267964, 4.277000171330027, 1.8648711205945818, 1.340955423850949], [7.195797227161693, 3.5718766308283834, 5.6139138344968655, 1.3420411585849943], [4.474531273986358, 2.0448341899064695, 3.2238391976209035, 0.43789923928043584]]\n",
      "les prototypes apres l entrainement :\n",
      "[array([6.50704615, 3.00525013, 5.39164141, 2.02895129]), array([6.50704615, 3.00525013, 5.39164141, 2.02895129]), array([6.50704615, 3.00525013, 5.39164141, 2.02895129])]\n",
      "la matrice de confusion est :\n",
      " [[50  0  0]\n",
      " [50  0  0]\n",
      " [50  0  0]]\n"
     ]
    }
   ],
   "source": [
    "from sklearn.metrics import confusion_matrix\n",
    "flvq=FLVQ(3,0.01,1000,X,0.2)\n",
    "print('les prototypes avant l entrainement :')\n",
    "flvq.afficher()\n",
    "flvq.entrainer(X)\n",
    "print('les prototypes apres l entrainement :')\n",
    "flvq.afficher()\n",
    "# Créer la matrice de confusion en utilisant scikit-learn\n",
    "confusion = confusion_matrix(D,flvq.desision(X))\n",
    "print(\"la matrice de confusion est :\\n\",confusion)\n"
   ]
  },
  {
   "cell_type": "code",
   "execution_count": 8,
   "metadata": {
    "id": "jgxCexRDnU9K"
   },
   "outputs": [],
   "source": [
    "import numpy as np\n",
    "from sklearn.datasets import load_iris\n",
    "from sklearn.metrics import accuracy_score\n",
    "\n",
    "def entropie(labels):\n",
    "    _, counts = np.unique(labels, return_counts=True)\n",
    "    probs = counts / len(labels)\n",
    "    return -np.sum(probs * np.log2(probs))\n",
    "\n",
    "def evaluate_algorithm(algo, X, y):\n",
    "    algo_name = algo.__class__.__name__\n",
    "    if algo==fcm:\n",
    "        pc=fcm.PC(X)\n",
    "        ent=fcm.entropie(X)\n",
    "        print(f\"{algo_name} : PC = {pc:.3f}, Entropie = {ent:.3f}\")\n",
    "    else:\n",
    "        predictions = [algo.gagnant(x) for x in X]\n",
    "        pc = accuracy_score(y, predictions)\n",
    "        ent = entropie(predictions)\n",
    "        print(f\"{algo_name} : PC = {pc:.3f}, Entropie = {ent:.3f}\")\n",
    "    "
   ]
  },
  {
   "cell_type": "code",
   "execution_count": 9,
   "metadata": {
    "colab": {
     "base_uri": "https://localhost:8080/"
    },
    "id": "2FVIUEvoBXdy",
    "outputId": "68c03dee-b6b4-4165-cac3-16eb85fdd687"
   },
   "outputs": [
    {
     "name": "stdout",
     "output_type": "stream",
     "text": [
      "FCM : PC = 0.003, Entropie = -0.008\n",
      "LVQ : PC = 0.007, Entropie = 1.549\n",
      "FLVQ : PC = 0.000, Entropie = -0.000\n"
     ]
    }
   ],
   "source": [
    "evaluate_algorithm(fcm, X, D)\n",
    "evaluate_algorithm(lvq, X, D)\n",
    "evaluate_algorithm(flvq, X, D)"
   ]
  },
  {
   "cell_type": "code",
   "execution_count": null,
   "metadata": {
    "id": "Zj9i-BKpF5Wq"
   },
   "outputs": [],
   "source": []
  },
  {
   "cell_type": "code",
   "execution_count": null,
   "metadata": {
    "id": "ROS-XUETGIlA"
   },
   "outputs": [],
   "source": []
  },
  {
   "cell_type": "markdown",
   "metadata": {
    "id": "OwuXSooYgC02"
   },
   "source": [
    "# New Section"
   ]
  }
 ],
 "metadata": {
  "colab": {
   "provenance": []
  },
  "kernelspec": {
   "display_name": "Python 3 (ipykernel)",
   "language": "python",
   "name": "python3"
  },
  "language_info": {
   "codemirror_mode": {
    "name": "ipython",
    "version": 3
   },
   "file_extension": ".py",
   "mimetype": "text/x-python",
   "name": "python",
   "nbconvert_exporter": "python",
   "pygments_lexer": "ipython3",
   "version": "3.9.18"
  }
 },
 "nbformat": 4,
 "nbformat_minor": 1
}
